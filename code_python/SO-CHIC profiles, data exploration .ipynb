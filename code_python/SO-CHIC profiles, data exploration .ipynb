{
 "cells": [
  {
   "cell_type": "markdown",
   "metadata": {},
   "source": [
    "### SO-CHIC profile data exploration step"
   ]
  },
  {
   "cell_type": "markdown",
   "metadata": {},
   "source": [
    "As part of SO-CHIC, Shenjie Zhou has prepared a curated set of temperature and salinity profiles. In this notebook, we carry out some initial data exploration steps. Let's examine the properties of these profiles and make some hopefully useful plots."
   ]
  },
  {
   "cell_type": "markdown",
   "metadata": {},
   "source": [
    "#### Initial setup"
   ]
  },
  {
   "cell_type": "code",
   "execution_count": 3,
   "metadata": {},
   "outputs": [],
   "source": [
    "# data handling\n",
    "import numpy as np\n",
    "import xarray as xr\n",
    "import netCDF4\n",
    "\n",
    "# plotting\n",
    "from matplotlib import pyplot as plt\n",
    "%matplotlib inline"
   ]
  },
  {
   "cell_type": "code",
   "execution_count": 4,
   "metadata": {},
   "outputs": [],
   "source": [
    "# set paths\n",
    "data_path = \"/Users/dcjones3/Dropbox/SO-WISE/WP1-Observations/data_in/Profiles_TS/\""
   ]
  },
  {
   "cell_type": "markdown",
   "metadata": {},
   "source": [
    "#### Load some example data"
   ]
  },
  {
   "cell_type": "code",
   "execution_count": 5,
   "metadata": {},
   "outputs": [],
   "source": [
    "CTD_stdlev_2010s = xr.open_dataset(data_path + \"PFL_prepare/Float_merged_2016.nc\")"
   ]
  },
  {
   "cell_type": "code",
   "execution_count": 6,
   "metadata": {},
   "outputs": [
    {
     "data": {
      "text/html": [
       "<pre>&lt;xarray.Dataset&gt;\n",
       "Dimensions:              (N_LEVELS: 1434, N_PROF: 2362)\n",
       "Dimensions without coordinates: N_LEVELS, N_PROF\n",
       "Data variables:\n",
       "    REFERENCE_DATE_TIME  object ...\n",
       "    PLATFORM_NUMBER      (N_PROF) object ...\n",
       "    DIRECTION            (N_PROF) object ...\n",
       "    DATA_MODE            (N_PROF) object ...\n",
       "    JULD                 (N_PROF) datetime64[ns] ...\n",
       "    JULD_QC              (N_PROF) object ...\n",
       "    LATITUDE             (N_PROF) float64 ...\n",
       "    LONGITUDE            (N_PROF) float64 ...\n",
       "    POSITION_QC          (N_PROF) object ...\n",
       "    PRES                 (N_PROF, N_LEVELS) float32 ...\n",
       "    PRES_QC              (N_PROF, N_LEVELS) object ...\n",
       "    PRES_ADJUSTED        (N_PROF, N_LEVELS) float32 ...\n",
       "    PRES_ADJUSTED_QC     (N_PROF, N_LEVELS) object ...\n",
       "    PRES_ADJUSTED_ERROR  (N_PROF, N_LEVELS) float32 ...\n",
       "    TEMP                 (N_PROF, N_LEVELS) float32 ...\n",
       "    TEMP_QC              (N_PROF, N_LEVELS) object ...\n",
       "    TEMP_ADJUSTED        (N_PROF, N_LEVELS) float32 ...\n",
       "    TEMP_ADJUSTED_QC     (N_PROF, N_LEVELS) object ...\n",
       "    TEMP_ADJUSTED_ERROR  (N_PROF, N_LEVELS) float32 ...\n",
       "    PSAL                 (N_PROF, N_LEVELS) float32 ...\n",
       "    PSAL_QC              (N_PROF, N_LEVELS) object ...\n",
       "    PSAL_ADJUSTED        (N_PROF, N_LEVELS) float32 ...\n",
       "    PSAL_ADJUSTED_QC     (N_PROF, N_LEVELS) object ...\n",
       "    PSAL_ADJUSTED_ERROR  (N_PROF, N_LEVELS) float32 ...</pre>"
      ],
      "text/plain": [
       "<xarray.Dataset>\n",
       "Dimensions:              (N_LEVELS: 1434, N_PROF: 2362)\n",
       "Dimensions without coordinates: N_LEVELS, N_PROF\n",
       "Data variables:\n",
       "    REFERENCE_DATE_TIME  object ...\n",
       "    PLATFORM_NUMBER      (N_PROF) object ...\n",
       "    DIRECTION            (N_PROF) object ...\n",
       "    DATA_MODE            (N_PROF) object ...\n",
       "    JULD                 (N_PROF) datetime64[ns] ...\n",
       "    JULD_QC              (N_PROF) object ...\n",
       "    LATITUDE             (N_PROF) float64 ...\n",
       "    LONGITUDE            (N_PROF) float64 ...\n",
       "    POSITION_QC          (N_PROF) object ...\n",
       "    PRES                 (N_PROF, N_LEVELS) float32 ...\n",
       "    PRES_QC              (N_PROF, N_LEVELS) object ...\n",
       "    PRES_ADJUSTED        (N_PROF, N_LEVELS) float32 ...\n",
       "    PRES_ADJUSTED_QC     (N_PROF, N_LEVELS) object ...\n",
       "    PRES_ADJUSTED_ERROR  (N_PROF, N_LEVELS) float32 ...\n",
       "    TEMP                 (N_PROF, N_LEVELS) float32 ...\n",
       "    TEMP_QC              (N_PROF, N_LEVELS) object ...\n",
       "    TEMP_ADJUSTED        (N_PROF, N_LEVELS) float32 ...\n",
       "    TEMP_ADJUSTED_QC     (N_PROF, N_LEVELS) object ...\n",
       "    TEMP_ADJUSTED_ERROR  (N_PROF, N_LEVELS) float32 ...\n",
       "    PSAL                 (N_PROF, N_LEVELS) float32 ...\n",
       "    PSAL_QC              (N_PROF, N_LEVELS) object ...\n",
       "    PSAL_ADJUSTED        (N_PROF, N_LEVELS) float32 ...\n",
       "    PSAL_ADJUSTED_QC     (N_PROF, N_LEVELS) object ...\n",
       "    PSAL_ADJUSTED_ERROR  (N_PROF, N_LEVELS) float32 ..."
      ]
     },
     "execution_count": 6,
     "metadata": {},
     "output_type": "execute_result"
    }
   ],
   "source": [
    "CTD_stdlev_2010s"
   ]
  },
  {
   "cell_type": "code",
   "execution_count": 12,
   "metadata": {},
   "outputs": [],
   "source": [
    "pval = CTD_stdlev_2010s.PRES.values"
   ]
  },
  {
   "cell_type": "code",
   "execution_count": 18,
   "metadata": {},
   "outputs": [
    {
     "ename": "SyntaxError",
     "evalue": "invalid syntax (<ipython-input-18-f30351102469>, line 1)",
     "output_type": "error",
     "traceback": [
      "\u001b[0;36m  File \u001b[0;32m\"<ipython-input-18-f30351102469>\"\u001b[0;36m, line \u001b[0;32m1\u001b[0m\n\u001b[0;31m    pval.shape(1,1:)\u001b[0m\n\u001b[0m                  ^\u001b[0m\n\u001b[0;31mSyntaxError\u001b[0m\u001b[0;31m:\u001b[0m invalid syntax\n"
     ]
    }
   ],
   "source": [
    "pval.shape(1,1:)"
   ]
  },
  {
   "cell_type": "markdown",
   "metadata": {},
   "source": [
    "I don't know python. Sigh. And I think we have to use MITprof anyway. Shall we switch to Matlab?"
   ]
  },
  {
   "cell_type": "code",
   "execution_count": null,
   "metadata": {},
   "outputs": [],
   "source": []
  }
 ],
 "metadata": {
  "kernelspec": {
   "display_name": "Python 3",
   "language": "python",
   "name": "python3"
  },
  "language_info": {
   "codemirror_mode": {
    "name": "ipython",
    "version": 3
   },
   "file_extension": ".py",
   "mimetype": "text/x-python",
   "name": "python",
   "nbconvert_exporter": "python",
   "pygments_lexer": "ipython3",
   "version": "3.7.4"
  }
 },
 "nbformat": 4,
 "nbformat_minor": 2
}
